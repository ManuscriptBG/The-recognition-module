{
 "cells": [
  {
   "cell_type": "code",
   "execution_count": null,
   "id": "f034dc71-b54e-4a3b-9950-26ba6da1de9a",
   "metadata": {},
   "outputs": [],
   "source": [
    "import cv2 \n",
    "import numpy as np \n",
    "import os "
   ]
  },
  {
   "cell_type": "code",
   "execution_count": null,
   "id": "f81c1527-35f1-4a4b-8708-0874311bbfd6",
   "metadata": {},
   "outputs": [],
   "source": [
    "def flip_image(image_path, labels_path): \n",
    "    # Загрузка изображения \n",
    "    image = cv2.imread(image_path)    \n",
    "    # Отражение изображения по горизонтали \n",
    "    flipped_image = np.fliplr(image) \n",
    "    # Получение ширины и высоты изображения \n",
    "    height, width, _ = image.shape      \n",
    "    # Открытие файла с лейблами \n",
    "    with open(labels_path, 'r') as file: \n",
    "        lines = file.readlines() "
   ]
  },
  {
   "cell_type": "code",
   "execution_count": null,
   "id": "ac70fdcb-0275-4785-b8f3-17be57680300",
   "metadata": {},
   "outputs": [],
   "source": [
    "# Создание нового файла для отраженных лейблов \n",
    "flipped_labels_path = os.path.splitext(labels_path)[0] + '_flipped.txt' \n",
    "with open(flipped_labels_path, 'w') as file: \n",
    "    for line in lines: \n",
    "        # Разделение строк на отдельные значения \n",
    "        values = line.strip().split(' ') \n",
    "        class_id = values[0] \n",
    "        x = float(values[1]) \n",
    "        y = float(values[2]) \n",
    "        w = float(values[3]) \n",
    "        h = float(values[4])\n",
    "        # Изменение координат разметки для отраженного изображения \n",
    "        #flipped_x = w/2+(1-(x+w/2))  # изменение координаты X и ориентации \n",
    "        flipped_x = 1-x \n",
    "        flipped_y = y \n",
    "        flipped_w = w \n",
    "        flipped_h = h\n",
    "        # Запись отраженных координат в новый файл \n",
    "        file.write(f'{class_id} {flipped_x} {flipped_y} {flipped_w} {flipped_h}\\n')\n",
    "    # Сохранение отраженного изображения \n",
    "    flipped_image_path = os.path.splitext(image_path)[0] + '_flipped.png' \n",
    "    cv2.imwrite(flipped_image_path, flipped_image)\n",
    "    print(f'Отраженное изображение сохранено: {flipped_image_path}') \n",
    "    print(f'Отраженные лейблы сохранены: {flipped_labels_path}')"
   ]
  },
  {
   "cell_type": "code",
   "execution_count": null,
   "id": "2f153e2a-0be7-45cd-8ddb-44b23bce29a0",
   "metadata": {},
   "outputs": [],
   "source": [
    "# Пример использования \n",
    "image_path = 'C:\\\\Users\\\\bogdan\\\\jupu\\\\dip\\\\ultratest\\\\image\\\\t18.png' \n",
    "labels_path = 'C:\\\\Users\\\\bogdan\\\\jupu\\\\dip\\\\ultratest\\\\label\\\\t18.txt' \n",
    "flip_image(image_path, labels_path) "
   ]
  }
 ],
 "metadata": {
  "kernelspec": {
   "display_name": "Python 3 (ipykernel)",
   "language": "python",
   "name": "python3"
  },
  "language_info": {
   "codemirror_mode": {
    "name": "ipython",
    "version": 3
   },
   "file_extension": ".py",
   "mimetype": "text/x-python",
   "name": "python",
   "nbconvert_exporter": "python",
   "pygments_lexer": "ipython3",
   "version": "3.12.7"
  }
 },
 "nbformat": 4,
 "nbformat_minor": 5
}
