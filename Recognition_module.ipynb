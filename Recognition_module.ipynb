{
 "cells": [
  {
   "cell_type": "code",
   "execution_count": null,
   "id": "72a0c043-13c2-4173-868e-2751be142fa9",
   "metadata": {},
   "outputs": [],
   "source": [
    "import numpy as np \n",
    "import datetime \n",
    "import cv2 \n",
    "from ultralytics import YOLO "
   ]
  },
  {
   "cell_type": "code",
   "execution_count": null,
   "id": "34cf4ced-e609-4f2f-b6f2-90da8d8e672a",
   "metadata": {},
   "outputs": [],
   "source": [
    "from deep_sort.deep_sort.tracker import Tracker \n",
    "from deep_sort.deep_sort import nn_matching \n",
    "from deep_sort.deep_sort.detection import Detection \n",
    "from deep_sort.tools import generate_detections as gdet "
   ]
  },
  {
   "cell_type": "code",
   "execution_count": null,
   "id": "13a63636-8028-4fc1-8028-9d09f38da8e8",
   "metadata": {},
   "outputs": [],
   "source": [
    "def create_video_writer(video_cap, output_filename):\n",
    "    # получаем ширину, высоту и частоту кадров видеопотока \n",
    "    frame_width = int(video_cap.get(cv2.CAP_PROP_FRAME_WIDTH)) \n",
    "    frame_height = int(video_cap.get(cv2.CAP_PROP_FRAME_HEIGHT)) \n",
    "    fps = int(video_cap.get(cv2.CAP_PROP_FPS)) \n",
    "    # инициализируем объект FourCC и видеозаписи \n",
    "    fourcc = cv2.VideoWriter_fourcc(*'MP4V') \n",
    "    writer = cv2.VideoWriter(output_filename, fourcc, fps, (frame_width, frame_height)) \n",
    "    return writer "
   ]
  },
  {
   "cell_type": "code",
   "execution_count": null,
   "id": "0ef5a7d4-eace-4799-bd1c-672f19a0b95e",
   "metadata": {},
   "outputs": [],
   "source": [
    "# задаем некоторые параметры \n",
    "conf_threshold = 0.5 \n",
    "max_cosine_distance = 0.4 \n",
    "nn_budget = None "
   ]
  },
  {
   "cell_type": "code",
   "execution_count": null,
   "id": "de4c73c9-f595-4134-944d-16d42a2f66cc",
   "metadata": {},
   "outputs": [],
   "source": [
    "# Инициализируем объекты захвата видео и записи видео \n",
    "video_cap = cv2.VideoCapture(\"C:\\\\Users\\\\bogdan\\\\jupu\\\\dip\\\\videotest1.mp4\") \n",
    "writer = create_video_writer(video_cap, \"outtest1.mp4\") "
   ]
  },
  {
   "cell_type": "code",
   "execution_count": null,
   "id": "a1de2fbd-a7f5-4d6d-b03b-d73383c9efeb",
   "metadata": {},
   "outputs": [],
   "source": [
    "# Инициализируем модель YOLOv8 с использованием стандартных весов \n",
    "model = YOLO(\"config/best.pt\") "
   ]
  },
  {
   "cell_type": "code",
   "execution_count": null,
   "id": "97f91268-6ee6-4ce6-a297-2d6e6db95da0",
   "metadata": {},
   "outputs": [],
   "source": [
    "# Инициализируем трекер DeepSort \n",
    "model_filename = \"config/mars-small128.pb\" \n",
    "encoder = gdet.create_box_encoder(model_filename, batch_size=1) \n",
    "metric = nn_matching.NearestNeighborDistanceMetric(\"cosine\", max_cosine_distance, nn_budget) \n",
    "tracker = Tracker(metric) "
   ]
  },
  {
   "cell_type": "code",
   "execution_count": null,
   "id": "4c763580-7977-475d-a2b7-3c3603260df5",
   "metadata": {},
   "outputs": [],
   "source": [
    "# загружаем классы COCO, на которых обучена модель YOLO \n",
    "classes_path = \"config/coco.names\" \n",
    "with open(classes_path, \"r\") as f: \n",
    "    class_names = f.read().strip().split(\"\\n\") "
   ]
  },
  {
   "cell_type": "code",
   "execution_count": null,
   "id": "3efce75d-0f42-4f21-9da5-189010453d7c",
   "metadata": {},
   "outputs": [],
   "source": [
    "# создаем список случайных цветов для каждого класса \n",
    "np.random.seed(42)  # чтобы получить одни и те же цвета \n",
    "colors = np.random.randint(0, 255, size=(len(class_names), 3))  # (80, 3) "
   ]
  },
  {
   "cell_type": "code",
   "execution_count": null,
   "id": "9da69db9-c5cf-488c-8e52-dd2874c365d5",
   "metadata": {},
   "outputs": [],
   "source": [
    "# цикл по кадрам видео \n",
    "while True: \n",
    "    # начальное время для вычисления FPS \n",
    "    start = datetime.datetime.now() \n",
    "    ret, frame = video_cap.read()  \n",
    "    # если кадр отсутствует, значит достигнут конец видео \n",
    "    if not ret: \n",
    "        print(\"Конец видеофайла...\") \n",
    "        break "
   ]
  },
  {
   "cell_type": "code",
   "execution_count": null,
   "id": "c3d76e12-1872-445e-8634-5a477eefac29",
   "metadata": {},
   "outputs": [],
   "source": [
    "############################################################ \n",
    "### Обнаружение объектов на кадре с помощью модели YOLO  ### \n",
    "############################################################ "
   ]
  },
  {
   "cell_type": "code",
   "execution_count": null,
   "id": "8595b61c-200f-47d2-8e18-161da1ad7fc4",
   "metadata": {},
   "outputs": [],
   "source": [
    "# запускаем модель YOLO на кадре \n",
    "results = model(frame)\n",
    "# цикл по результатам \n",
    "for result in results: \n",
    "    # инициализируем списки ограничивающих рамок, уверенностей и идентификаторов классов \n",
    "    bboxes = [] \n",
    "    confidences = [] \n",
    "    class_ids = [] "
   ]
  },
  {
   "cell_type": "code",
   "execution_count": null,
   "id": "e75e6970-c10c-489d-bc17-289ba04595b3",
   "metadata": {},
   "outputs": [],
   "source": [
    "# цикл по обнаруженным объектам \n",
    "for data in result.boxes.data.tolist(): \n",
    "    x1, y1, x2, y2, confidence, class_id = data \n",
    "    x = int(x1) \n",
    "    y = int(y1) \n",
    "    w = int(x2) - int(x1) \n",
    "    h = int(y2) - int(y1) \n",
    "    class_id = int(class_id) \n",
    "    # cv2.rectangle(frame, (x, y), (x + w, y + h), (0, 255, 0), 2)\n",
    "    # фильтрация слабых предсказаний, убеждаясь, что уверенность больше минимальной уверенности \n",
    "    if confidence > conf_threshold: \n",
    "        bboxes.append([x, y, w, h]) \n",
    "        confidences.append(confidence) \n",
    "        class_ids.append(class_id)"
   ]
  },
  {
   "cell_type": "code",
   "execution_count": null,
   "id": "252741ff-e189-421b-9e71-5856a01106d5",
   "metadata": {},
   "outputs": [],
   "source": [
    "############################################################ \n",
    "### Отслеживание объектов на кадре с помощью DeepSort    ### \n",
    "############################################################ "
   ]
  },
  {
   "cell_type": "code",
   "execution_count": null,
   "id": "759febe0-0338-4f2a-a8ea-27b1ab01737f",
   "metadata": {},
   "outputs": [],
   "source": [
    "# получаем названия обнаруженных объектов \n",
    "names = [class_names[class_id] for class_id in class_ids] \n",
    "# получаем признаки обнаруженных объектов \n",
    "features = encoder(frame, bboxes) \n",
    "# преобразуем обнаружения в формат DeepSort \n",
    "dets = [] \n",
    "for bbox, conf, class_name, feature in zip(bboxes, confidences, names, features): \n",
    "    dets.append(Detection(bbox, conf, class_name, feature)) "
   ]
  },
  {
   "cell_type": "code",
   "execution_count": null,
   "id": "4173448d-6dde-498e-bc24-3618450fc282",
   "metadata": {},
   "outputs": [],
   "source": [
    "# запускаем трекер на обнаружениях \n",
    "    tracker.predict() \n",
    "    tracker.update(dets) "
   ]
  },
  {
   "cell_type": "code",
   "execution_count": null,
   "id": "e5c9f743-4785-4762-922e-1d5f7ff64519",
   "metadata": {},
   "outputs": [],
   "source": [
    "# цикл по отслеживаемым объектам \n",
    "for track in tracker.tracks: \n",
    "    if not track.is_confirmed() or track.time_since_update > 1: \n",
    "        continue\n",
    "    # получаем ограничивающую рамку объекта, имя \n",
    "    # объекта и идентификатор трека \n",
    "    bbox = track.to_tlbr() \n",
    "    track_id = track.track_id    \n",
    "    class_name = track.get_class() \n",
    "    # преобразуем ограничивающую рамку в целые числа \n",
    "    x1, y1, x2, y2 = int(bbox[0]), int(bbox[1]), int(bbox[2]), int(bbox[3]) \n",
    "    # получаем цвет, соответствующий имени класса \n",
    "    class_id = class_names.index(class_name) \n",
    "    color = colors[class_id] \n",
    "    B, G, R = int(color[0]), int(color[1]), int(color[2])\n",
    "    # рисуем ограничивающую рамку объекта, имя \n",
    "    # предсказанного объекта и идентификатор трека \n",
    "    text = str(track_id) + \" - \" + class_name \n",
    "    cv2.rectangle(frame, (x1, y1), (x2, y2), (B, G, R), 2) \n",
    "    cv2.rectangle(frame, (x1 - 1, y1 - 20), (x1 + len(text) * 12, y1), (B, G, R), -1) \n",
    "    cv2.putText(frame, text, (x1 + 5, y1 - 8), cv2.FONT_HERSHEY_SIMPLEX, 0.5, (255, 255, 255), 2)\n",
    "    ############################################################ \n",
    "    ### Некоторая постобработка для отображения результатов  ### \n",
    "    ############################################################\n",
    "    # конечное время для вычисления FPS \n",
    "    end = datetime.datetime.now() \n",
    "    # вычисляем кадры в секунду и выводим на кадр \n",
    "    fps = f\"FPS: {1 / (end - start).total_seconds():.2f}\" \n",
    "    cv2.putText(frame, fps, (50, 50), cv2.FONT_HERSHEY_SIMPLEX, 2, (0, 0, 255), 8) \n",
    "    cv2.imshow(\"Output\", frame)\n",
    "    # записываем кадр на диск \n",
    "    writer.write(frame) \n",
    "    if cv2.waitKey(1) == ord(\"q\"): \n",
    "        break "
   ]
  },
  {
   "cell_type": "code",
   "execution_count": null,
   "id": "79c579bd-cd7d-45b4-b055-6d8816ba0e17",
   "metadata": {},
   "outputs": [],
   "source": [
    "# освобождаем ресурсы, связанные с захватом видео, записью видео и закрываем все окна \n",
    "video_cap.release() \n",
    "writer.release() \n",
    "cv2.destroyAllWindows()"
   ]
  }
 ],
 "metadata": {
  "kernelspec": {
   "display_name": "Python 3 (ipykernel)",
   "language": "python",
   "name": "python3"
  },
  "language_info": {
   "codemirror_mode": {
    "name": "ipython",
    "version": 3
   },
   "file_extension": ".py",
   "mimetype": "text/x-python",
   "name": "python",
   "nbconvert_exporter": "python",
   "pygments_lexer": "ipython3",
   "version": "3.12.7"
  }
 },
 "nbformat": 4,
 "nbformat_minor": 5
}
